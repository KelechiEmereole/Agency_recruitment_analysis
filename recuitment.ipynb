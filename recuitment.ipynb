{
 "cells": [
  {
   "cell_type": "markdown",
   "metadata": {},
   "source": [
    "Import the neccessary libraries"
   ]
  },
  {
   "cell_type": "code",
   "execution_count": 110,
   "metadata": {},
   "outputs": [],
   "source": [
    "import pandas as pd\n",
    "import numpy as np\n",
    "import matplotlib.pyplot as plt"
   ]
  },
  {
   "cell_type": "markdown",
   "metadata": {},
   "source": [
    "Loading Dataset"
   ]
  },
  {
   "cell_type": "code",
   "execution_count": 111,
   "metadata": {},
   "outputs": [],
   "source": [
    "df = pd.read_csv('C:/Users/KELECHI/Desktop/Data science/recuitment.csv')"
   ]
  },
  {
   "cell_type": "markdown",
   "metadata": {},
   "source": [
    "## Exploratory Data Analysis"
   ]
  },
  {
   "cell_type": "code",
   "execution_count": 112,
   "metadata": {},
   "outputs": [
    {
     "data": {
      "text/html": [
       "<div>\n",
       "<style scoped>\n",
       "    .dataframe tbody tr th:only-of-type {\n",
       "        vertical-align: middle;\n",
       "    }\n",
       "\n",
       "    .dataframe tbody tr th {\n",
       "        vertical-align: top;\n",
       "    }\n",
       "\n",
       "    .dataframe thead th {\n",
       "        text-align: right;\n",
       "    }\n",
       "</style>\n",
       "<table border=\"1\" class=\"dataframe\">\n",
       "  <thead>\n",
       "    <tr style=\"text-align: right;\">\n",
       "      <th></th>\n",
       "      <th>Respondent ID</th>\n",
       "      <th>Start Date</th>\n",
       "      <th>End Date</th>\n",
       "      <th>Email Address</th>\n",
       "      <th>First Name</th>\n",
       "      <th>Last Name</th>\n",
       "      <th>Custom Data 1</th>\n",
       "      <th>Identify which division you work in.</th>\n",
       "      <th>Unnamed: 8</th>\n",
       "      <th>Which of the following best describes your position level?</th>\n",
       "      <th>...</th>\n",
       "      <th>Unnamed: 90</th>\n",
       "      <th>Unnamed: 91</th>\n",
       "      <th>Unnamed: 92</th>\n",
       "      <th>Unnamed: 93</th>\n",
       "      <th>Unnamed: 94</th>\n",
       "      <th>Unnamed: 95</th>\n",
       "      <th>Unnamed: 96</th>\n",
       "      <th>Question 30</th>\n",
       "      <th>Unnamed: 98</th>\n",
       "      <th>Unnamed: 99</th>\n",
       "    </tr>\n",
       "  </thead>\n",
       "  <tbody>\n",
       "    <tr>\n",
       "      <th>0</th>\n",
       "      <td>NaN</td>\n",
       "      <td>NaN</td>\n",
       "      <td>NaN</td>\n",
       "      <td>NaN</td>\n",
       "      <td>NaN</td>\n",
       "      <td>NaN</td>\n",
       "      <td>NaN</td>\n",
       "      <td>Response</td>\n",
       "      <td>Other (please specify)</td>\n",
       "      <td>Response</td>\n",
       "      <td>...</td>\n",
       "      <td>Response 8</td>\n",
       "      <td>Response 9</td>\n",
       "      <td>Response 10</td>\n",
       "      <td>Response 11</td>\n",
       "      <td>Response 12</td>\n",
       "      <td>Response 13</td>\n",
       "      <td>Response 14</td>\n",
       "      <td>Response 1</td>\n",
       "      <td>Response 2</td>\n",
       "      <td>Response 3</td>\n",
       "    </tr>\n",
       "    <tr>\n",
       "      <th>1</th>\n",
       "      <td>5.379192e+09</td>\n",
       "      <td>2021-01-22 12:01:17</td>\n",
       "      <td>2021-01-22 12:40:34</td>\n",
       "      <td>NaN</td>\n",
       "      <td>NaN</td>\n",
       "      <td>NaN</td>\n",
       "      <td>NaN</td>\n",
       "      <td>Infrastructure</td>\n",
       "      <td>NaN</td>\n",
       "      <td>Staff</td>\n",
       "      <td>...</td>\n",
       "      <td>NaN</td>\n",
       "      <td>Answer 8</td>\n",
       "      <td>Answer 8</td>\n",
       "      <td>Answer 4</td>\n",
       "      <td>NaN</td>\n",
       "      <td>NaN</td>\n",
       "      <td>Answer 5</td>\n",
       "      <td>NaN</td>\n",
       "      <td>NaN</td>\n",
       "      <td>NaN</td>\n",
       "    </tr>\n",
       "    <tr>\n",
       "      <th>2</th>\n",
       "      <td>2.658723e+09</td>\n",
       "      <td>2021-01-22 06:56:37</td>\n",
       "      <td>2021-01-22 07:34:10</td>\n",
       "      <td>NaN</td>\n",
       "      <td>NaN</td>\n",
       "      <td>NaN</td>\n",
       "      <td>NaN</td>\n",
       "      <td>Finance</td>\n",
       "      <td>NaN</td>\n",
       "      <td>Staff</td>\n",
       "      <td>...</td>\n",
       "      <td>NaN</td>\n",
       "      <td>Answer 5</td>\n",
       "      <td>NaN</td>\n",
       "      <td>NaN</td>\n",
       "      <td>Answer 2</td>\n",
       "      <td>NaN</td>\n",
       "      <td>Answer 5</td>\n",
       "      <td>NaN</td>\n",
       "      <td>NaN</td>\n",
       "      <td>Answer 1</td>\n",
       "    </tr>\n",
       "    <tr>\n",
       "      <th>3</th>\n",
       "      <td>4.044163e+09</td>\n",
       "      <td>2021-01-22 06:35:18</td>\n",
       "      <td>2021-01-22 06:47:32</td>\n",
       "      <td>NaN</td>\n",
       "      <td>NaN</td>\n",
       "      <td>NaN</td>\n",
       "      <td>NaN</td>\n",
       "      <td>Infrastructure</td>\n",
       "      <td>NaN</td>\n",
       "      <td>Department Lead</td>\n",
       "      <td>...</td>\n",
       "      <td>NaN</td>\n",
       "      <td>NaN</td>\n",
       "      <td>Answer 4</td>\n",
       "      <td>Answer 4</td>\n",
       "      <td>Answer 6</td>\n",
       "      <td>NaN</td>\n",
       "      <td>Answer 6</td>\n",
       "      <td>NaN</td>\n",
       "      <td>Answer 1</td>\n",
       "      <td>NaN</td>\n",
       "    </tr>\n",
       "    <tr>\n",
       "      <th>4</th>\n",
       "      <td>5.535866e+09</td>\n",
       "      <td>2021-01-21 21:29:32</td>\n",
       "      <td>2021-01-21 21:40:24</td>\n",
       "      <td>NaN</td>\n",
       "      <td>NaN</td>\n",
       "      <td>NaN</td>\n",
       "      <td>NaN</td>\n",
       "      <td>Infrastructure</td>\n",
       "      <td>NaN</td>\n",
       "      <td>Manager</td>\n",
       "      <td>...</td>\n",
       "      <td>Answer 2</td>\n",
       "      <td>Answer 5</td>\n",
       "      <td>Answer 7</td>\n",
       "      <td>NaN</td>\n",
       "      <td>Answer 6</td>\n",
       "      <td>NaN</td>\n",
       "      <td>Answer 7</td>\n",
       "      <td>Answer 7</td>\n",
       "      <td>Answer 1</td>\n",
       "      <td>Answer 6</td>\n",
       "    </tr>\n",
       "  </tbody>\n",
       "</table>\n",
       "<p>5 rows × 100 columns</p>\n",
       "</div>"
      ],
      "text/plain": [
       "   Respondent ID           Start Date             End Date  Email Address  \\\n",
       "0            NaN                  NaN                  NaN            NaN   \n",
       "1   5.379192e+09  2021-01-22 12:01:17  2021-01-22 12:40:34            NaN   \n",
       "2   2.658723e+09  2021-01-22 06:56:37  2021-01-22 07:34:10            NaN   \n",
       "3   4.044163e+09  2021-01-22 06:35:18  2021-01-22 06:47:32            NaN   \n",
       "4   5.535866e+09  2021-01-21 21:29:32  2021-01-21 21:40:24            NaN   \n",
       "\n",
       "   First Name  Last Name  Custom Data 1 Identify which division you work in.  \\\n",
       "0         NaN        NaN            NaN                             Response   \n",
       "1         NaN        NaN            NaN                       Infrastructure   \n",
       "2         NaN        NaN            NaN                              Finance   \n",
       "3         NaN        NaN            NaN                       Infrastructure   \n",
       "4         NaN        NaN            NaN                       Infrastructure   \n",
       "\n",
       "               Unnamed: 8  \\\n",
       "0  Other (please specify)   \n",
       "1                     NaN   \n",
       "2                     NaN   \n",
       "3                     NaN   \n",
       "4                     NaN   \n",
       "\n",
       "  Which of the following best describes your position level?  ... Unnamed: 90  \\\n",
       "0                                           Response          ...  Response 8   \n",
       "1                                              Staff          ...         NaN   \n",
       "2                                              Staff          ...         NaN   \n",
       "3                                    Department Lead          ...         NaN   \n",
       "4                                            Manager          ...    Answer 2   \n",
       "\n",
       "  Unnamed: 91  Unnamed: 92  Unnamed: 93  Unnamed: 94  Unnamed: 95  \\\n",
       "0  Response 9  Response 10  Response 11  Response 12  Response 13   \n",
       "1    Answer 8     Answer 8     Answer 4          NaN          NaN   \n",
       "2    Answer 5          NaN          NaN     Answer 2          NaN   \n",
       "3         NaN     Answer 4     Answer 4     Answer 6          NaN   \n",
       "4    Answer 5     Answer 7          NaN     Answer 6          NaN   \n",
       "\n",
       "   Unnamed: 96 Question 30 Unnamed: 98 Unnamed: 99  \n",
       "0  Response 14  Response 1  Response 2  Response 3  \n",
       "1     Answer 5         NaN         NaN         NaN  \n",
       "2     Answer 5         NaN         NaN    Answer 1  \n",
       "3     Answer 6         NaN    Answer 1         NaN  \n",
       "4     Answer 7    Answer 7    Answer 1    Answer 6  \n",
       "\n",
       "[5 rows x 100 columns]"
      ]
     },
     "execution_count": 112,
     "metadata": {},
     "output_type": "execute_result"
    }
   ],
   "source": [
    "df.head()"
   ]
  },
  {
   "cell_type": "code",
   "execution_count": 113,
   "metadata": {},
   "outputs": [
    {
     "data": {
      "text/plain": [
       "(199, 100)"
      ]
     },
     "execution_count": 113,
     "metadata": {},
     "output_type": "execute_result"
    }
   ],
   "source": [
    "df.shape"
   ]
  },
  {
   "cell_type": "markdown",
   "metadata": {},
   "source": [
    "There are 199 rows and 100 columns in our dataset"
   ]
  },
  {
   "cell_type": "code",
   "execution_count": 114,
   "metadata": {},
   "outputs": [
    {
     "name": "stdout",
     "output_type": "stream",
     "text": [
      "<class 'pandas.core.frame.DataFrame'>\n",
      "RangeIndex: 199 entries, 0 to 198\n",
      "Data columns (total 100 columns):\n",
      " #   Column                                                              Non-Null Count  Dtype  \n",
      "---  ------                                                              --------------  -----  \n",
      " 0   Respondent ID                                                       198 non-null    float64\n",
      " 1   Start Date                                                          198 non-null    object \n",
      " 2   End Date                                                            198 non-null    object \n",
      " 3   Email Address                                                       0 non-null      float64\n",
      " 4   First Name                                                          0 non-null      float64\n",
      " 5   Last Name                                                           0 non-null      float64\n",
      " 6   Custom Data 1                                                       0 non-null      float64\n",
      " 7   Identify which division you work in.                                198 non-null    object \n",
      " 8   Unnamed: 8                                                          3 non-null      object \n",
      " 9   Which of the following best describes your position level?          197 non-null    object \n",
      " 10  Which generation are you apart of?                                  197 non-null    object \n",
      " 11  Please select the gender in which you identify.                     197 non-null    object \n",
      " 12  Which duration range best aligns with your tenure at your company?  199 non-null    object \n",
      " 13  Which of the following best describes your employment type?         199 non-null    object \n",
      " 14  Question 1                                                          120 non-null    object \n",
      " 15  Question 2                                                          119 non-null    object \n",
      " 16  Question 3                                                          118 non-null    object \n",
      " 17  Question 4                                                          117 non-null    object \n",
      " 18  Unnamed: 18                                                         105 non-null    object \n",
      " 19  Question 5                                                          119 non-null    object \n",
      " 20  Unnamed: 20                                                         113 non-null    object \n",
      " 21  Unnamed: 21                                                         110 non-null    object \n",
      " 22  Unnamed: 22                                                         113 non-null    object \n",
      " 23  Unnamed: 23                                                         112 non-null    object \n",
      " 24  Unnamed: 24                                                         115 non-null    object \n",
      " 25  Question 6                                                          117 non-null    object \n",
      " 26  Unnamed: 26                                                         105 non-null    object \n",
      " 27  Unnamed: 27                                                         117 non-null    object \n",
      " 28  Unnamed: 28                                                         106 non-null    object \n",
      " 29  Unnamed: 29                                                         117 non-null    object \n",
      " 30  Unnamed: 30                                                         108 non-null    object \n",
      " 31  Question 7                                                          119 non-null    object \n",
      " 32  Unnamed: 32                                                         120 non-null    object \n",
      " 33  Question 8                                                          118 non-null    object \n",
      " 34  Unnamed: 34                                                         116 non-null    object \n",
      " 35  Unnamed: 35                                                         111 non-null    object \n",
      " 36  Unnamed: 36                                                         105 non-null    object \n",
      " 37  Question 9                                                          122 non-null    object \n",
      " 38  Unnamed: 38                                                         114 non-null    object \n",
      " 39  Unnamed: 39                                                         109 non-null    object \n",
      " 40  Unnamed: 40                                                         112 non-null    object \n",
      " 41  Question 10                                                         114 non-null    object \n",
      " 42  Unnamed: 42                                                         118 non-null    object \n",
      " 43  Unnamed: 43                                                         124 non-null    object \n",
      " 44  Unnamed: 44                                                         108 non-null    object \n",
      " 45  Unnamed: 45                                                         126 non-null    object \n",
      " 46  Question 11                                                         123 non-null    object \n",
      " 47  Unnamed: 47                                                         118 non-null    object \n",
      " 48  Question 12                                                         115 non-null    object \n",
      " 49  Question 13                                                         109 non-null    object \n",
      " 50  Question 14                                                         106 non-null    object \n",
      " 51  Question 15                                                         115 non-null    object \n",
      " 52  Question 16                                                         118 non-null    object \n",
      " 53  Question 17                                                         136 non-null    object \n",
      " 54  Question 18                                                         110 non-null    object \n",
      " 55  Question 19                                                         120 non-null    object \n",
      " 56  Unnamed: 56                                                         108 non-null    object \n",
      " 57  Question 20                                                         106 non-null    object \n",
      " 58  Question 21                                                         128 non-null    object \n",
      " 59  Question 22                                                         108 non-null    object \n",
      " 60  Unnamed: 60                                                         108 non-null    object \n",
      " 61  Question 23                                                         121 non-null    object \n",
      " 62  Question 24                                                         112 non-null    object \n",
      " 63  Unnamed: 63                                                         111 non-null    object \n",
      " 64  Unnamed: 64                                                         106 non-null    object \n",
      " 65  Unnamed: 65                                                         108 non-null    object \n",
      " 66  Unnamed: 66                                                         112 non-null    object \n",
      " 67  Question 25                                                         106 non-null    object \n",
      " 68  Unnamed: 68                                                         103 non-null    object \n",
      " 69  Unnamed: 69                                                         108 non-null    object \n",
      " 70  Unnamed: 70                                                         114 non-null    object \n",
      " 71  Unnamed: 71                                                         107 non-null    object \n",
      " 72  Unnamed: 72                                                         117 non-null    object \n",
      " 73  Unnamed: 73                                                         108 non-null    object \n",
      " 74  Unnamed: 74                                                         109 non-null    object \n",
      " 75  Unnamed: 75                                                         107 non-null    object \n",
      " 76  Question 26                                                         101 non-null    object \n",
      " 77  Unnamed: 77                                                         120 non-null    object \n",
      " 78  Unnamed: 78                                                         108 non-null    object \n",
      " 79  Unnamed: 79                                                         111 non-null    object \n",
      " 80  Question 27                                                         107 non-null    object \n",
      " 81  Unnamed: 81                                                         106 non-null    object \n",
      " 82  Question 28                                                         120 non-null    object \n",
      " 83  Question 29                                                         121 non-null    object \n",
      " 84  Unnamed: 84                                                         113 non-null    object \n",
      " 85  Unnamed: 85                                                         109 non-null    object \n",
      " 86  Unnamed: 86                                                         115 non-null    object \n",
      " 87  Unnamed: 87                                                         108 non-null    object \n",
      " 88  Unnamed: 88                                                         116 non-null    object \n",
      " 89  Unnamed: 89                                                         113 non-null    object \n",
      " 90  Unnamed: 90                                                         114 non-null    object \n",
      " 91  Unnamed: 91                                                         124 non-null    object \n",
      " 92  Unnamed: 92                                                         107 non-null    object \n",
      " 93  Unnamed: 93                                                         116 non-null    object \n",
      " 94  Unnamed: 94                                                         104 non-null    object \n",
      " 95  Unnamed: 95                                                         121 non-null    object \n",
      " 96  Unnamed: 96                                                         117 non-null    object \n",
      " 97  Question 30                                                         104 non-null    object \n",
      " 98  Unnamed: 98                                                         118 non-null    object \n",
      " 99  Unnamed: 99                                                         113 non-null    object \n",
      "dtypes: float64(5), object(95)\n",
      "memory usage: 155.6+ KB\n"
     ]
    }
   ],
   "source": [
    "df.info()"
   ]
  },
  {
   "cell_type": "code",
   "execution_count": 115,
   "metadata": {},
   "outputs": [],
   "source": [
    "columns_to_drop = ['Email Address','First Name','Last Name','Custom Data 1']\n",
    "df.drop(columns= columns_to_drop, inplace=True)"
   ]
  },
  {
   "cell_type": "code",
   "execution_count": 116,
   "metadata": {},
   "outputs": [],
   "source": [
    "df_= df [['Respondent ID','Start Date','End Date','Identify which division you work in.','Which of the following best describes your position level?','Which generation are you apart of?','Please select the gender in which you identify.','Which duration range best aligns with your tenure at your company?','Which of the following best describes your employment type?']]"
   ]
  },
  {
   "cell_type": "code",
   "execution_count": 117,
   "metadata": {},
   "outputs": [
    {
     "name": "stderr",
     "output_type": "stream",
     "text": [
      "c:\\Users\\KELECHI\\AppData\\Local\\Programs\\Python\\Python37\\lib\\site-packages\\pandas\\util\\_decorators.py:311: SettingWithCopyWarning: \n",
      "A value is trying to be set on a copy of a slice from a DataFrame\n",
      "\n",
      "See the caveats in the documentation: https://pandas.pydata.org/pandas-docs/stable/user_guide/indexing.html#returning-a-view-versus-a-copy\n",
      "  return func(*args, **kwargs)\n"
     ]
    }
   ],
   "source": [
    "df_.dropna(inplace=True)"
   ]
  },
  {
   "cell_type": "code",
   "execution_count": 118,
   "metadata": {},
   "outputs": [
    {
     "data": {
      "text/plain": [
       "(193, 9)"
      ]
     },
     "execution_count": 118,
     "metadata": {},
     "output_type": "execute_result"
    }
   ],
   "source": [
    "df_.shape"
   ]
  },
  {
   "cell_type": "markdown",
   "metadata": {},
   "source": [
    "From the CSV file, there were 199 rows and 100 columns with so many missing and irrelevant data, rows and  columns. After dropping the columns not relevant for my analysis I was left with 193 rows and 9 columns.\n",
    "The columns were used to answer the questions to check their historical effectiveness. \n",
    "The 9 columns are listed below:\n",
    "1. Respondent ID\n",
    "2. Start Date\n",
    "3. End Date\n",
    "4. Identify which division you work in.,\n",
    "5. Which of the following best describes your position level?\n",
    "6. Which generation are you apart of?\n",
    "7. Please select the gender in which you identify.\n",
    "8. Which duration range best aligns with your tenure at your company?\n",
    "9. Which of the following best describes your employment type?"
   ]
  },
  {
   "cell_type": "markdown",
   "metadata": {},
   "source": [
    "The division with the highest number of employment"
   ]
  },
  {
   "cell_type": "code",
   "execution_count": 119,
   "metadata": {},
   "outputs": [
    {
     "data": {
      "text/plain": [
       "Infrastructure                          48\n",
       "Finance                                 40\n",
       "Information Technology                  26\n",
       "People                                  23\n",
       "Executive                               14\n",
       "Commercial                              14\n",
       "Legal                                    9\n",
       "Port Security & Emergency Operations     8\n",
       "Port Operations                          7\n",
       "Other (please specify)                   2\n",
       "Government & Public Relations            1\n",
       "Internal Audit                           1\n",
       "Name: Identify which division you work in., dtype: int64"
      ]
     },
     "execution_count": 119,
     "metadata": {},
     "output_type": "execute_result"
    }
   ],
   "source": [
    "Highest_division=df_['Identify which division you work in.'].value_counts()\n",
    "Highest_division"
   ]
  },
  {
   "cell_type": "markdown",
   "metadata": {},
   "source": [
    "The table shows the different division and the number of Employees in each division. From the table Infrastructure has the highest Employees with internal audit, Government and public relations, Response having the lowest number of employees."
   ]
  },
  {
   "cell_type": "code",
   "execution_count": 120,
   "metadata": {},
   "outputs": [
    {
     "name": "stderr",
     "output_type": "stream",
     "text": [
      "c:\\Users\\KELECHI\\AppData\\Local\\Programs\\Python\\Python37\\lib\\site-packages\\pandas\\core\\frame.py:5182: SettingWithCopyWarning: \n",
      "A value is trying to be set on a copy of a slice from a DataFrame\n",
      "\n",
      "See the caveats in the documentation: https://pandas.pydata.org/pandas-docs/stable/user_guide/indexing.html#returning-a-view-versus-a-copy\n",
      "  downcast=downcast,\n"
     ]
    }
   ],
   "source": [
    "df_.fillna(0,inplace=True)"
   ]
  },
  {
   "cell_type": "code",
   "execution_count": 121,
   "metadata": {},
   "outputs": [
    {
     "data": {
      "text/plain": [
       "Text(0.5, 0, 'Division of Employees')"
      ]
     },
     "execution_count": 121,
     "metadata": {},
     "output_type": "execute_result"
    },
    {
     "data": {
      "image/png": "[encoded data removed]",
      "text/plain": [
       "<Figure size 640x480 with 1 Axes>"
      ]
     },
     "metadata": {},
     "output_type": "display_data"
    }
   ],
   "source": [
    "Highest_division.plot(kind='bar',color='blue')\n",
    "plt.ylabel('Total number of employee')\n",
    "plt.xlabel('Division of Employees')"
   ]
  },
  {
   "cell_type": "markdown",
   "metadata": {},
   "source": [
    "The level / position with the highest employment rate"
   ]
  },
  {
   "cell_type": "code",
   "execution_count": 122,
   "metadata": {},
   "outputs": [
    {
     "data": {
      "text/plain": [
       "Staff                113\n",
       "Manager               46\n",
       "Department Lead       28\n",
       "Chief / Executive      6\n",
       "Name: Which of the following best describes your position level?, dtype: int64"
      ]
     },
     "execution_count": 122,
     "metadata": {},
     "output_type": "execute_result"
    }
   ],
   "source": [
    "Highest_position=df_['Which of the following best describes your position level?'].value_counts()\n",
    "Highest_position"
   ]
  },
  {
   "cell_type": "code",
   "execution_count": 123,
   "metadata": {},
   "outputs": [
    {
     "data": {
      "text/plain": [
       "Text(0.5, 0, 'Positions of Employees')"
      ]
     },
     "execution_count": 123,
     "metadata": {},
     "output_type": "execute_result"
    },
    {
     "data": {
      "image/png": "[encoded data removed]",
      "text/plain": [
       "<Figure size 640x480 with 1 Axes>"
      ]
     },
     "metadata": {},
     "output_type": "display_data"
    }
   ],
   "source": [
    "Highest_position.plot(kind='bar',color='Purple')\n",
    "plt.ylabel('Total number of employee')\n",
    "plt.xlabel('Positions of Employees')"
   ]
  },
  {
   "cell_type": "markdown",
   "metadata": {},
   "source": [
    "From the table and bar chart staff has the highest Employment rate of 113 with manager having 46 and Chief/Executive having the least of 6."
   ]
  },
  {
   "cell_type": "markdown",
   "metadata": {},
   "source": [
    "Most preferred gender for employment and reason"
   ]
  },
  {
   "cell_type": "code",
   "execution_count": 124,
   "metadata": {},
   "outputs": [
    {
     "data": {
      "text/plain": [
       "Female                  94\n",
       "Male                    85\n",
       "Prefer not to answer    13\n",
       "Non-Binary               1\n",
       "Name: Please select the gender in which you identify., dtype: int64"
      ]
     },
     "execution_count": 124,
     "metadata": {},
     "output_type": "execute_result"
    }
   ],
   "source": [
    "Prefer_gender=df_['Please select the gender in which you identify.'].value_counts()\n",
    "Prefer_gender"
   ]
  },
  {
   "cell_type": "code",
   "execution_count": 125,
   "metadata": {},
   "outputs": [
    {
     "data": {
      "text/plain": [
       "Text(0.5, 0, 'Gender of Employees')"
      ]
     },
     "execution_count": 125,
     "metadata": {},
     "output_type": "execute_result"
    },
    {
     "data": {
      "image/png": "[encoded data removed]",
      "text/plain": [
       "<Figure size 640x480 with 1 Axes>"
      ]
     },
     "metadata": {},
     "output_type": "display_data"
    }
   ],
   "source": [
    "Prefer_gender.plot(kind='bar',color='gold')\n",
    "plt.ylabel('Total number of employee')\n",
    "plt.xlabel('Gender of Employees')"
   ]
  },
  {
   "cell_type": "markdown",
   "metadata": {},
   "source": [
    "he chart and table shows different genders and the most preferred gender which is Female with total of 94."
   ]
  },
  {
   "cell_type": "markdown",
   "metadata": {},
   "source": [
    "Generation Type of employees"
   ]
  },
  {
   "cell_type": "code",
   "execution_count": 126,
   "metadata": {},
   "outputs": [
    {
     "data": {
      "text/plain": [
       "Generation X (born between 1965-1980)    73\n",
       "Millennial (born between 1981-2000)      66\n",
       "Baby Boomer (born between 1946-1964)     38\n",
       "Prefer not to answer                     15\n",
       "Generation Z (born 2001 or later)         1\n",
       "Name: Which generation are you apart of?, dtype: int64"
      ]
     },
     "execution_count": 126,
     "metadata": {},
     "output_type": "execute_result"
    }
   ],
   "source": [
    "Generation_type=df_['Which generation are you apart of?'].value_counts()\n",
    "Generation_type"
   ]
  },
  {
   "cell_type": "code",
   "execution_count": 127,
   "metadata": {},
   "outputs": [
    {
     "data": {
      "text/plain": [
       "Text(0.5, 0, 'Generation of Employees')"
      ]
     },
     "execution_count": 127,
     "metadata": {},
     "output_type": "execute_result"
    },
    {
     "data": {
      "image/png": "[encoded data removed]",
      "text/plain": [
       "<Figure size 640x480 with 1 Axes>"
      ]
     },
     "metadata": {},
     "output_type": "display_data"
    }
   ],
   "source": [
    "Generation_type.plot(kind='bar',color='red')\n",
    "plt.ylabel('Total number of employee')\n",
    "plt.xlabel('Generation of Employees')"
   ]
  },
  {
   "cell_type": "markdown",
   "metadata": {},
   "source": [
    "There are Five generations of employees in the company and from the table there are more of Generation X (born between 1965- 1980) with 73, Generation Z with the least generation of 1."
   ]
  },
  {
   "cell_type": "markdown",
   "metadata": {},
   "source": [
    "Years of Employment of employees"
   ]
  },
  {
   "cell_type": "code",
   "execution_count": 128,
   "metadata": {},
   "outputs": [
    {
     "data": {
      "text/plain": [
       "10+ years     61\n",
       "5-10 years    56\n",
       "0-2 years     43\n",
       "3-5 years     33\n",
       "Name: Which duration range best aligns with your tenure at your company?, dtype: int64"
      ]
     },
     "execution_count": 128,
     "metadata": {},
     "output_type": "execute_result"
    }
   ],
   "source": [
    "Employee_years=df_['Which duration range best aligns with your tenure at your company?'].value_counts()\n",
    "Employee_years"
   ]
  },
  {
   "cell_type": "code",
   "execution_count": 129,
   "metadata": {},
   "outputs": [
    {
     "data": {
      "text/plain": [
       "Text(0.5, 0, 'Employees years')"
      ]
     },
     "execution_count": 129,
     "metadata": {},
     "output_type": "execute_result"
    },
    {
     "data": {
      "image/png": "[encoded data removed]",
      "text/plain": [
       "<Figure size 640x480 with 1 Axes>"
      ]
     },
     "metadata": {},
     "output_type": "display_data"
    }
   ],
   "source": [
    "Employee_years.plot(kind='bar',color='blue')\n",
    "plt.ylabel('Total number of employee')\n",
    "plt.xlabel('Employees years')"
   ]
  },
  {
   "cell_type": "markdown",
   "metadata": {},
   "source": [
    "From the chart 61 employees has  10+ years duration with the company, 56 has 5-10 years duration, 43 has 0-2 years duration and 33 has 3-5 years duration. "
   ]
  },
  {
   "cell_type": "markdown",
   "metadata": {},
   "source": [
    "Which of the following best describes your employment type?"
   ]
  },
  {
   "cell_type": "code",
   "execution_count": 130,
   "metadata": {},
   "outputs": [
    {
     "data": {
      "text/plain": [
       "Full time Employee    193\n",
       "Name: Which of the following best describes your employment type?, dtype: int64"
      ]
     },
     "execution_count": 130,
     "metadata": {},
     "output_type": "execute_result"
    }
   ],
   "source": [
    "Employee_type=df_['Which of the following best describes your employment type?'].value_counts()\n",
    "Employee_type"
   ]
  },
  {
   "cell_type": "code",
   "execution_count": 131,
   "metadata": {},
   "outputs": [
    {
     "data": {
      "text/plain": [
       "Text(0.5, 0, 'Employees type')"
      ]
     },
     "execution_count": 131,
     "metadata": {},
     "output_type": "execute_result"
    },
    {
     "data": {
      "image/png": "[encoded data removed]",
      "text/plain": [
       "<Figure size 640x480 with 1 Axes>"
      ]
     },
     "metadata": {},
     "output_type": "display_data"
    }
   ],
   "source": [
    "Employee_type.plot(kind='bar',color='purple')\n",
    "plt.ylabel('Total number of employee')\n",
    "plt.xlabel('Employees type')"
   ]
  },
  {
   "cell_type": "markdown",
   "metadata": {},
   "source": [
    "From the Data collected all employees are full time employed"
   ]
  },
  {
   "cell_type": "code",
   "execution_count": 138,
   "metadata": {},
   "outputs": [],
   "source": [
    "df['Which of the following best describes your position level?'].replace('NaN','Zero', inplace=True)\n",
    "df['Please select the gender in which you identify.'].replace('NaN','Zero', inplace=True)"
   ]
  },
  {
   "cell_type": "markdown",
   "metadata": {},
   "source": [
    "Gender with differnt Position"
   ]
  },
  {
   "cell_type": "code",
   "execution_count": 140,
   "metadata": {},
   "outputs": [
    {
     "data": {
      "text/html": [
       "<div>\n",
       "<style scoped>\n",
       "    .dataframe tbody tr th:only-of-type {\n",
       "        vertical-align: middle;\n",
       "    }\n",
       "\n",
       "    .dataframe tbody tr th {\n",
       "        vertical-align: top;\n",
       "    }\n",
       "\n",
       "    .dataframe thead th {\n",
       "        text-align: right;\n",
       "    }\n",
       "</style>\n",
       "<table border=\"1\" class=\"dataframe\">\n",
       "  <thead>\n",
       "    <tr style=\"text-align: right;\">\n",
       "      <th>Which of the following best describes your position level?</th>\n",
       "      <th>Chief / Executive</th>\n",
       "      <th>Department Lead</th>\n",
       "      <th>Manager</th>\n",
       "      <th>Staff</th>\n",
       "    </tr>\n",
       "    <tr>\n",
       "      <th>Please select the gender in which you identify.</th>\n",
       "      <th></th>\n",
       "      <th></th>\n",
       "      <th></th>\n",
       "      <th></th>\n",
       "    </tr>\n",
       "  </thead>\n",
       "  <tbody>\n",
       "    <tr>\n",
       "      <th>Female</th>\n",
       "      <td>3.0</td>\n",
       "      <td>10.0</td>\n",
       "      <td>14.0</td>\n",
       "      <td>67.0</td>\n",
       "    </tr>\n",
       "    <tr>\n",
       "      <th>Male</th>\n",
       "      <td>3.0</td>\n",
       "      <td>18.0</td>\n",
       "      <td>27.0</td>\n",
       "      <td>37.0</td>\n",
       "    </tr>\n",
       "    <tr>\n",
       "      <th>Non-Binary</th>\n",
       "      <td>NaN</td>\n",
       "      <td>NaN</td>\n",
       "      <td>1.0</td>\n",
       "      <td>NaN</td>\n",
       "    </tr>\n",
       "    <tr>\n",
       "      <th>Prefer not to answer</th>\n",
       "      <td>NaN</td>\n",
       "      <td>NaN</td>\n",
       "      <td>4.0</td>\n",
       "      <td>9.0</td>\n",
       "    </tr>\n",
       "  </tbody>\n",
       "</table>\n",
       "</div>"
      ],
      "text/plain": [
       "Which of the following best describes your position level?  Chief / Executive  \\\n",
       "Please select the gender in which you identify.                                 \n",
       "Female                                                                    3.0   \n",
       "Male                                                                      3.0   \n",
       "Non-Binary                                                                NaN   \n",
       "Prefer not to answer                                                      NaN   \n",
       "\n",
       "Which of the following best describes your position level?  Department Lead  \\\n",
       "Please select the gender in which you identify.                               \n",
       "Female                                                                 10.0   \n",
       "Male                                                                   18.0   \n",
       "Non-Binary                                                              NaN   \n",
       "Prefer not to answer                                                    NaN   \n",
       "\n",
       "Which of the following best describes your position level?  Manager  Staff  \n",
       "Please select the gender in which you identify.                             \n",
       "Female                                                         14.0   67.0  \n",
       "Male                                                           27.0   37.0  \n",
       "Non-Binary                                                      1.0    NaN  \n",
       "Prefer not to answer                                            4.0    9.0  "
      ]
     },
     "execution_count": 140,
     "metadata": {},
     "output_type": "execute_result"
    }
   ],
   "source": [
    "Gender_position=df_.groupby(['Please select the gender in which you identify.','Which of the following best describes your position level?']).size().unstack()\n",
    "\n",
    "Gender_position"
   ]
  },
  {
   "cell_type": "markdown",
   "metadata": {},
   "source": [
    "insights:\n",
    "* The Chief/Executive level has an equal representation of Female and Male individuals, both with 3 people each. There is no data for Non-Binary or Prefer not to answer in this department.\n",
    "* The Department Lead category has more Male representation (18) compared to Female (10). There are no Non-Binary responses, and no individuals chose \"Prefer not to answer\" in this level.\n",
    "* The Manager level shows the highest diversity in gender. Males (27) outnumber Females (14), but Non-Binary individuals (1) and those who prefer not to answer (4) also make an appearance, highlighting a greater diversity in gender identity at this level.\n",
    "* he Staff level has a higher number of Female employees (67) compared to Male employees (37). There are 9 people who prefer not to disclose their gender, but no one from this group identifies as Non-Binary.\n",
    "\n",
    "Key Summary:\n",
    "* Staff level has the highest number of Female employees (67) and Male employees (37), indicating a gender imbalance toward females in the general workforce.\n",
    "* Managerial roles show greater gender diversity, with a mix of Male (27), Female (14), and smaller representation of Non-Binary (1) and Prefer not to answer (4).\n",
    "* Chief / Executive and Department Lead roles have a relatively balanced gender distribution, but the Department Lead has a stronger Male presence."
   ]
  },
  {
   "cell_type": "code",
   "execution_count": 134,
   "metadata": {},
   "outputs": [
    {
     "data": {
      "text/html": [
       "<div>\n",
       "<style scoped>\n",
       "    .dataframe tbody tr th:only-of-type {\n",
       "        vertical-align: middle;\n",
       "    }\n",
       "\n",
       "    .dataframe tbody tr th {\n",
       "        vertical-align: top;\n",
       "    }\n",
       "\n",
       "    .dataframe thead th {\n",
       "        text-align: right;\n",
       "    }\n",
       "</style>\n",
       "<table border=\"1\" class=\"dataframe\">\n",
       "  <thead>\n",
       "    <tr style=\"text-align: right;\">\n",
       "      <th>Which of the following best describes your position level?</th>\n",
       "      <th>Chief / Executive</th>\n",
       "      <th>Department Lead</th>\n",
       "      <th>Manager</th>\n",
       "      <th>Staff</th>\n",
       "    </tr>\n",
       "    <tr>\n",
       "      <th>Which duration range best aligns with your tenure at your company?</th>\n",
       "      <th></th>\n",
       "      <th></th>\n",
       "      <th></th>\n",
       "      <th></th>\n",
       "    </tr>\n",
       "  </thead>\n",
       "  <tbody>\n",
       "    <tr>\n",
       "      <th>0-2 years</th>\n",
       "      <td>NaN</td>\n",
       "      <td>6.0</td>\n",
       "      <td>7.0</td>\n",
       "      <td>30.0</td>\n",
       "    </tr>\n",
       "    <tr>\n",
       "      <th>10+ years</th>\n",
       "      <td>3.0</td>\n",
       "      <td>9.0</td>\n",
       "      <td>14.0</td>\n",
       "      <td>35.0</td>\n",
       "    </tr>\n",
       "    <tr>\n",
       "      <th>3-5 years</th>\n",
       "      <td>1.0</td>\n",
       "      <td>4.0</td>\n",
       "      <td>5.0</td>\n",
       "      <td>23.0</td>\n",
       "    </tr>\n",
       "    <tr>\n",
       "      <th>5-10 years</th>\n",
       "      <td>2.0</td>\n",
       "      <td>9.0</td>\n",
       "      <td>20.0</td>\n",
       "      <td>25.0</td>\n",
       "    </tr>\n",
       "  </tbody>\n",
       "</table>\n",
       "</div>"
      ],
      "text/plain": [
       "Which of the following best describes your position level?  Chief / Executive  \\\n",
       "Which duration range best aligns with your tenu...                              \n",
       "0-2 years                                                                 NaN   \n",
       "10+ years                                                                 3.0   \n",
       "3-5 years                                                                 1.0   \n",
       "5-10 years                                                                2.0   \n",
       "\n",
       "Which of the following best describes your position level?  Department Lead  \\\n",
       "Which duration range best aligns with your tenu...                            \n",
       "0-2 years                                                               6.0   \n",
       "10+ years                                                               9.0   \n",
       "3-5 years                                                               4.0   \n",
       "5-10 years                                                              9.0   \n",
       "\n",
       "Which of the following best describes your position level?  Manager  Staff  \n",
       "Which duration range best aligns with your tenu...                          \n",
       "0-2 years                                                       7.0   30.0  \n",
       "10+ years                                                      14.0   35.0  \n",
       "3-5 years                                                       5.0   23.0  \n",
       "5-10 years                                                     20.0   25.0  "
      ]
     },
     "execution_count": 134,
     "metadata": {},
     "output_type": "execute_result"
    }
   ],
   "source": [
    "Tenure_position=df_.groupby(['Which duration range best aligns with your tenure at your company?','Which of the following best describes your position level?']).size().unstack()\n",
    "\n",
    "Tenure_position"
   ]
  },
  {
   "cell_type": "markdown",
   "metadata": {},
   "source": [
    "Insight: \n",
    "* The Chief / Executive level is mostly composed of individuals with longer tenures. Most of the individuals have been with the company for 10+ years (3), followed by those with 5-10 years (2). There are fewer individuals with 3-5 years tenure (1), and no data for 0-2 years.\n",
    "* The Department Lead level shows a fairly balanced distribution of tenure, with the largest groups having 5-10 years (9) and 10+ years (9). There are also individuals with 0-2 years (6) and 3-5 years (4), reflecting a mix of newer and more experienced employees.\n",
    "* The Manager level has a large number of employees with 5-10 years (20) and 10+ years (14). There are also moderate numbers of those with 0-2 years (7) and 3-5 years (5), indicating a combination of both experienced and relatively newer managers.\n",
    "* The Staff level has the largest group of employees, with a significant number having 10+ years tenure (35), followed by those with 0-2 years (30). 5-10 years (25) and 3-5 years (23) also show notable numbers. This indicates a more diverse mix of tenures within the staff category.\n",
    "\n",
    "Key Summary:\n",
    "* The Chief / Executive level is primarily made up of individuals with 5+ years tenure, with a concentration in the 10+ years group.\n",
    "* Department Leads and Managers show a more even distribution of tenure, with a mix of employees who are both newer and more experienced.\n",
    "* Staff levels have the most diversity in terms of tenure, with significant numbers in all tenure categories, especially 10+ years and 0-2 years."
   ]
  },
  {
   "cell_type": "code",
   "execution_count": 135,
   "metadata": {},
   "outputs": [
    {
     "data": {
      "text/html": [
       "<div>\n",
       "<style scoped>\n",
       "    .dataframe tbody tr th:only-of-type {\n",
       "        vertical-align: middle;\n",
       "    }\n",
       "\n",
       "    .dataframe tbody tr th {\n",
       "        vertical-align: top;\n",
       "    }\n",
       "\n",
       "    .dataframe thead th {\n",
       "        text-align: right;\n",
       "    }\n",
       "</style>\n",
       "<table border=\"1\" class=\"dataframe\">\n",
       "  <thead>\n",
       "    <tr style=\"text-align: right;\">\n",
       "      <th>Please select the gender in which you identify.</th>\n",
       "      <th>Female</th>\n",
       "      <th>Male</th>\n",
       "      <th>Non-Binary</th>\n",
       "      <th>Prefer not to answer</th>\n",
       "    </tr>\n",
       "    <tr>\n",
       "      <th>Identify which division you work in.</th>\n",
       "      <th></th>\n",
       "      <th></th>\n",
       "      <th></th>\n",
       "      <th></th>\n",
       "    </tr>\n",
       "  </thead>\n",
       "  <tbody>\n",
       "    <tr>\n",
       "      <th>Commercial</th>\n",
       "      <td>5.0</td>\n",
       "      <td>6.0</td>\n",
       "      <td>NaN</td>\n",
       "      <td>3.0</td>\n",
       "    </tr>\n",
       "    <tr>\n",
       "      <th>Executive</th>\n",
       "      <td>9.0</td>\n",
       "      <td>3.0</td>\n",
       "      <td>NaN</td>\n",
       "      <td>2.0</td>\n",
       "    </tr>\n",
       "    <tr>\n",
       "      <th>Finance</th>\n",
       "      <td>26.0</td>\n",
       "      <td>11.0</td>\n",
       "      <td>NaN</td>\n",
       "      <td>3.0</td>\n",
       "    </tr>\n",
       "    <tr>\n",
       "      <th>Government &amp; Public Relations</th>\n",
       "      <td>1.0</td>\n",
       "      <td>NaN</td>\n",
       "      <td>NaN</td>\n",
       "      <td>NaN</td>\n",
       "    </tr>\n",
       "    <tr>\n",
       "      <th>Information Technology</th>\n",
       "      <td>6.0</td>\n",
       "      <td>19.0</td>\n",
       "      <td>NaN</td>\n",
       "      <td>1.0</td>\n",
       "    </tr>\n",
       "    <tr>\n",
       "      <th>Infrastructure</th>\n",
       "      <td>16.0</td>\n",
       "      <td>29.0</td>\n",
       "      <td>1.0</td>\n",
       "      <td>2.0</td>\n",
       "    </tr>\n",
       "    <tr>\n",
       "      <th>Internal Audit</th>\n",
       "      <td>NaN</td>\n",
       "      <td>1.0</td>\n",
       "      <td>NaN</td>\n",
       "      <td>NaN</td>\n",
       "    </tr>\n",
       "    <tr>\n",
       "      <th>Legal</th>\n",
       "      <td>7.0</td>\n",
       "      <td>2.0</td>\n",
       "      <td>NaN</td>\n",
       "      <td>NaN</td>\n",
       "    </tr>\n",
       "    <tr>\n",
       "      <th>Other (please specify)</th>\n",
       "      <td>NaN</td>\n",
       "      <td>1.0</td>\n",
       "      <td>NaN</td>\n",
       "      <td>1.0</td>\n",
       "    </tr>\n",
       "    <tr>\n",
       "      <th>People</th>\n",
       "      <td>17.0</td>\n",
       "      <td>5.0</td>\n",
       "      <td>NaN</td>\n",
       "      <td>1.0</td>\n",
       "    </tr>\n",
       "    <tr>\n",
       "      <th>Port Operations</th>\n",
       "      <td>3.0</td>\n",
       "      <td>4.0</td>\n",
       "      <td>NaN</td>\n",
       "      <td>NaN</td>\n",
       "    </tr>\n",
       "    <tr>\n",
       "      <th>Port Security &amp; Emergency Operations</th>\n",
       "      <td>4.0</td>\n",
       "      <td>4.0</td>\n",
       "      <td>NaN</td>\n",
       "      <td>NaN</td>\n",
       "    </tr>\n",
       "  </tbody>\n",
       "</table>\n",
       "</div>"
      ],
      "text/plain": [
       "Please select the gender in which you identify.  Female  Male  Non-Binary  \\\n",
       "Identify which division you work in.                                        \n",
       "Commercial                                          5.0   6.0         NaN   \n",
       "Executive                                           9.0   3.0         NaN   \n",
       "Finance                                            26.0  11.0         NaN   \n",
       "Government & Public Relations                       1.0   NaN         NaN   \n",
       "Information Technology                              6.0  19.0         NaN   \n",
       "Infrastructure                                     16.0  29.0         1.0   \n",
       "Internal Audit                                      NaN   1.0         NaN   \n",
       "Legal                                               7.0   2.0         NaN   \n",
       "Other (please specify)                              NaN   1.0         NaN   \n",
       "People                                             17.0   5.0         NaN   \n",
       "Port Operations                                     3.0   4.0         NaN   \n",
       "Port Security & Emergency Operations                4.0   4.0         NaN   \n",
       "\n",
       "Please select the gender in which you identify.  Prefer not to answer  \n",
       "Identify which division you work in.                                   \n",
       "Commercial                                                        3.0  \n",
       "Executive                                                         2.0  \n",
       "Finance                                                           3.0  \n",
       "Government & Public Relations                                     NaN  \n",
       "Information Technology                                            1.0  \n",
       "Infrastructure                                                    2.0  \n",
       "Internal Audit                                                    NaN  \n",
       "Legal                                                             NaN  \n",
       "Other (please specify)                                            1.0  \n",
       "People                                                            1.0  \n",
       "Port Operations                                                   NaN  \n",
       "Port Security & Emergency Operations                              NaN  "
      ]
     },
     "execution_count": 135,
     "metadata": {},
     "output_type": "execute_result"
    }
   ],
   "source": [
    "Gneder_division=df_.groupby(['Identify which division you work in.','Please select the gender in which you identify.']).size().unstack()\n",
    "Gneder_division"
   ]
  },
  {
   "cell_type": "markdown",
   "metadata": {},
   "source": [
    "Insights:\n",
    "* Finance and People divisions show a higher number of Females, while the Information Technology and Infrastructure divisions have more Males.\n",
    "* Government & Public Relations and Internal Audit divisions have very few responses, with Government & Public Relations only reporting Females.\n",
    "* A small number of individuals across divisions prefer not to disclose their gender."
   ]
  },
  {
   "cell_type": "markdown",
   "metadata": {},
   "source": [
    "Recommendations\n",
    "Based on the identified division with the highest employment, tailor recruitment strategies to better meet the needs and demands of that specific division.\n",
    "Implement strategies to ensure a fair and inclusive hiring process, addressing any biases and promoting equal opportunities for all genders.\n",
    "Regularly reassess and adjust strategies based on evolving organizational needs and industry trends.\n"
   ]
  }
 ],
 "metadata": {
  "kernelspec": {
   "display_name": "Python 3",
   "language": "python",
   "name": "python3"
  },
  "language_info": {
   "codemirror_mode": {
    "name": "ipython",
    "version": 3
   },
   "file_extension": ".py",
   "mimetype": "text/x-python",
   "name": "python",
   "nbconvert_exporter": "python",
   "pygments_lexer": "ipython3",
   "version": "3.7.7"
  }
 },
 "nbformat": 4,
 "nbformat_minor": 2
}
